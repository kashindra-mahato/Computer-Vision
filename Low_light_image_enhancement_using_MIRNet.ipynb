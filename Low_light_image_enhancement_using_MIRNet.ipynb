{
  "nbformat": 4,
  "nbformat_minor": 0,
  "metadata": {
    "colab": {
      "provenance": [],
      "gpuType": "T4",
      "authorship_tag": "ABX9TyPv4IojpP4R+3TmCwao61gE",
      "include_colab_link": true
    },
    "kernelspec": {
      "name": "python3",
      "display_name": "Python 3"
    },
    "language_info": {
      "name": "python"
    },
    "accelerator": "GPU"
  },
  "cells": [
    {
      "cell_type": "markdown",
      "metadata": {
        "id": "view-in-github",
        "colab_type": "text"
      },
      "source": [
        "<a href=\"https://colab.research.google.com/github/kashindra-mahato/Computer-Vision/blob/main/Low_light_image_enhancement_using_MIRNet.ipynb\" target=\"_parent\"><img src=\"https://colab.research.google.com/assets/colab-badge.svg\" alt=\"Open In Colab\"/></a>"
      ]
    },
    {
      "cell_type": "code",
      "execution_count": null,
      "metadata": {
        "id": "kzX3spkB29Kw"
      },
      "outputs": [],
      "source": [
        "import os\n",
        "import cv2\n",
        "import random\n",
        "import numpy as np\n",
        "from glob import glob\n",
        "from PIL import Image, ImageOps\n",
        "import matplotlib.pyplot as plt\n",
        "\n",
        "import tensorflow as tf\n",
        "from tensorflow import keras\n",
        "from tensorflow.keras import layers"
      ]
    },
    {
      "cell_type": "code",
      "source": [
        "!gdown https://drive.google.com/uc?id=1DdGIJ4PZPlF2ikl8mNM9V-PdVxVLbQi6\n",
        "!unzip -q lol_dataset.zip"
      ],
      "metadata": {
        "colab": {
          "base_uri": "https://localhost:8080/"
        },
        "id": "VQ-clHny3v4A",
        "outputId": "1e343875-0dd2-400a-91b3-f1a166973cf6"
      },
      "execution_count": null,
      "outputs": [
        {
          "output_type": "stream",
          "name": "stdout",
          "text": [
            "Downloading...\n",
            "From: https://drive.google.com/uc?id=1DdGIJ4PZPlF2ikl8mNM9V-PdVxVLbQi6\n",
            "To: /content/lol_dataset.zip\n",
            "100% 347M/347M [00:02<00:00, 125MB/s]\n"
          ]
        }
      ]
    },
    {
      "cell_type": "code",
      "source": [
        "# Creating a tensorflow dataset\n",
        "random.seed(10)\n",
        "\n",
        "IMAGE_SIZE = 128\n",
        "BATCH_SIZE = 4\n",
        "MAX_TRAIN_IMAGES = 300\n",
        "\n",
        "def read_image(image_path):\n",
        "  image = tf.io.read_file(image_path)\n",
        "  image = tf.image.decode_png(image, channels=3)\n",
        "  image.set_shape([None, None, 3])\n",
        "  image = tf.cast(image, dtype=tf.float32) / 255.0\n",
        "  return image"
      ],
      "metadata": {
        "id": "lpXBIgYs3ydx"
      },
      "execution_count": null,
      "outputs": []
    },
    {
      "cell_type": "code",
      "source": [
        "def random_crop(low_image, enhanced_image):\n",
        "  low_image_shape = tf.shape(low_image)[:2]\n",
        "  low_w = tf.random.uniform(\n",
        "      shape=(), maxval=low_image_shape[1] - IMAGE_SIZE + 1, dtype=tf.int32\n",
        "  )\n",
        "  low_h = tf.random.uniform(\n",
        "      shape=(), maxval=low_image_shape[0] - IMAGE_SIZE + 1, dtype=tf.int32\n",
        "  )\n",
        "  enhanced_w = low_w\n",
        "  enhanced_h = low_h\n",
        "  low_image_cropped = low_image[\n",
        "      low_h : low_h + IMAGE_SIZE, low_w : low_w + IMAGE_SIZE\n",
        "  ]\n",
        "  enhanced_image_cropped = enhanced_image[\n",
        "      enhanced_h : enhanced_h + IMAGE_SIZE, enhanced_w : enhanced_w + IMAGE_SIZE\n",
        "  ]\n",
        "  return low_image_cropped, enhanced_image_cropped"
      ],
      "metadata": {
        "id": "UthgjB0t4WY0"
      },
      "execution_count": null,
      "outputs": []
    },
    {
      "cell_type": "code",
      "source": [
        "def load_data(low_light_image_path, enhanced_image_path):\n",
        "  low_light_image = read_image(low_light_image_path)\n",
        "  enhanced_image = read_image(enhanced_image_path)\n",
        "  low_light_image, enhanced_image = random_crop(low_light_image, enhanced_image)\n",
        "  return low_light_image, enhanced_image"
      ],
      "metadata": {
        "id": "viBSApxM5xKW"
      },
      "execution_count": null,
      "outputs": []
    },
    {
      "cell_type": "code",
      "source": [
        "def get_dataset(low_light_images, enhanced_images):\n",
        "  dataset = tf.data.Dataset.from_tensor_slices((low_light_images, enhanced_images))\n",
        "  dataset = dataset.map(load_data, num_parallel_calls=tf.data.AUTOTUNE)\n",
        "  dataset = dataset.batch(BATCH_SIZE, drop_remainder=True)\n",
        "  return dataset"
      ],
      "metadata": {
        "id": "_wJXhSzZ6Zf0"
      },
      "execution_count": null,
      "outputs": []
    },
    {
      "cell_type": "code",
      "source": [
        "train_low_light_images = sorted(glob(\"./lol_dataset/our485/low/*\"))[:MAX_TRAIN_IMAGES]\n",
        "train_enhanced_images = sorted(glob(\"./lol_dataset/our485/high/*\"))[:MAX_TRAIN_IMAGES]\n",
        "\n",
        "val_low_light_images = sorted(glob(\"./lol_dataset/our485/low/*\"))[MAX_TRAIN_IMAGES:]\n",
        "val_enhanced_images = sorted(glob(\"./lol_dataset/our485/high/*\"))[MAX_TRAIN_IMAGES:]\n",
        "\n",
        "test_low_light_images = sorted(glob(\"./lol_dataset/eval15/low/*\"))\n",
        "test_enhanced_images = sorted(glob(\"./lol_dataset/eval15/high/*\"))"
      ],
      "metadata": {
        "id": "ypKETH0r7JMF"
      },
      "execution_count": null,
      "outputs": []
    },
    {
      "cell_type": "code",
      "source": [
        "train_dataset = get_dataset(train_low_light_images, train_enhanced_images)\n",
        "val_dataset = get_dataset(val_low_light_images, val_enhanced_images)"
      ],
      "metadata": {
        "id": "eBwpbGqg8KYi"
      },
      "execution_count": null,
      "outputs": []
    },
    {
      "cell_type": "code",
      "source": [
        "print(\"Train Dataset: \", train_dataset)\n",
        "print(\"Val Dataset: \", val_dataset)"
      ],
      "metadata": {
        "colab": {
          "base_uri": "https://localhost:8080/"
        },
        "id": "B7mgtaLC8W3_",
        "outputId": "04d4c771-1458-467d-9c18-866f157c6626"
      },
      "execution_count": null,
      "outputs": [
        {
          "output_type": "stream",
          "name": "stdout",
          "text": [
            "Train Dataset:  <_BatchDataset element_spec=(TensorSpec(shape=(4, None, None, 3), dtype=tf.float32, name=None), TensorSpec(shape=(4, None, None, 3), dtype=tf.float32, name=None))>\n",
            "Val Dataset:  <_BatchDataset element_spec=(TensorSpec(shape=(4, None, None, 3), dtype=tf.float32, name=None), TensorSpec(shape=(4, None, None, 3), dtype=tf.float32, name=None))>\n"
          ]
        }
      ]
    },
    {
      "cell_type": "code",
      "source": [
        "# MIRNet Model\n",
        "def selective_kernel_feature_fusion(\n",
        "    multi_scale_feature_1, multi_scale_feature_2, multi_scale_feature_3\n",
        "):\n",
        "  channels = list(multi_scale_feature_1.shape)[-1]\n",
        "  combined_feature = layers.Add()(\n",
        "      [multi_scale_feature_1, multi_scale_feature_2, multi_scale_feature_3]\n",
        "  )\n",
        "  gap = layers.GlobalAveragePooling2D()(combined_feature)\n",
        "  channel_wise_statistics = tf.reshape(gap, shape=(-1, 1, 1, channels))\n",
        "  compact_feature_representation = layers.Conv2D(\n",
        "      filters=channels // 8, kernel_size=(1, 1), activation=\"relu\"\n",
        "  )(channel_wise_statistics)\n",
        "  feature_descriptor_1 = layers.Conv2D(\n",
        "      channels, kernel_size=(1, 1), activation=\"softmax\"\n",
        "  )(compact_feature_representation)\n",
        "  feature_descriptor_2 = layers.Conv2D(\n",
        "      channels, kernel_size=(1, 1), activation=\"softmax\"\n",
        "  )(compact_feature_representation)\n",
        "  feature_descriptor_3 = layers.Conv2D(\n",
        "      channels, kernel_size=(1, 1), activation=\"softmax\"\n",
        "  )(compact_feature_representation)\n",
        "  feature_1 = multi_scale_feature_1 * feature_descriptor_1\n",
        "  feature_2 = multi_scale_feature_2 * feature_descriptor_2\n",
        "  feature_3 = multi_scale_feature_3 * feature_descriptor_3\n",
        "  aggregated_feature = layers.Add()([feature_1, feature_2, feature_3])\n",
        "  return aggregated_feature"
      ],
      "metadata": {
        "id": "lMBQ5f0b8eyv"
      },
      "execution_count": null,
      "outputs": []
    },
    {
      "cell_type": "code",
      "source": [
        "def spatial_attention_block(input_tensor):\n",
        "  average_pooling = tf.reduce_max(input_tensor, axis=-1)\n",
        "  average_pooling = tf.expand_dims(average_pooling, axis=-1)\n",
        "  max_pooling = tf.reduce_mean(input_tensor, axis=-1)\n",
        "  max_pooling = tf.expand_dims(max_pooling, axis=-1)\n",
        "  concatenated = layers.Concatenate(axis=-1)([average_pooling, max_pooling])\n",
        "  feature_map = layers.Conv2D(1, kernel_size=(1, 1))(concatenated)\n",
        "  feature_map = tf.nn.sigmoid(feature_map)\n",
        "  return input_tensor * feature_map"
      ],
      "metadata": {
        "id": "35y0wgqtSrRN"
      },
      "execution_count": null,
      "outputs": []
    },
    {
      "cell_type": "code",
      "source": [
        "def channel_attention_block(input_tensor):\n",
        "  channels = list(input_tensor.shape)[-1]\n",
        "  average_pooling = layers.GlobalAveragePooling2D()(input_tensor)\n",
        "  feature_descriptor = tf.reshape(average_pooling, shape=(-1, 1, 1, channels))\n",
        "  feature_activations = layers.Conv2D(\n",
        "      filters=channels, kernel_size=(1, 1), activation=\"sigmoid\"\n",
        "  )(feature_descriptor)\n",
        "  return input_tensor * feature_activations"
      ],
      "metadata": {
        "id": "xhXLZ1dAVQ4T"
      },
      "execution_count": null,
      "outputs": []
    },
    {
      "cell_type": "code",
      "source": [
        "def dual_attention_unit_block(input_tensor):\n",
        "  channels = list(input_tensor.shape)[-1]\n",
        "  feature_map = layers.Conv2D(\n",
        "      channels, kernel_size=(3, 3), padding=\"same\", activation=\"relu\"\n",
        "  )(input_tensor)\n",
        "  feature_map = layers.Conv2D(channels, kernel_size=(3,3), padding=\"same\")(\n",
        "      feature_map\n",
        "  )\n",
        "  channel_attention = channel_attention_block(feature_map)\n",
        "  spatial_attention = spatial_attention_block(feature_map)\n",
        "  concatenation = layers.Concatenate(axis=-1)([channel_attention, spatial_attention])\n",
        "  concatenation = layers.Conv2D(channels, kernel_size=(1, 1))(concatenation)\n",
        "  return layers.Add()([input_tensor, concatenation])"
      ],
      "metadata": {
        "id": "GBGoDkFdWJf1"
      },
      "execution_count": null,
      "outputs": []
    },
    {
      "cell_type": "code",
      "source": [
        "# Recursive Residual Modules\n",
        "\n",
        "def down_sampling_module(input_tensor):\n",
        "  channels = list(input_tensor.shape)[-1]\n",
        "  main_branch = layers.Conv2D(channels, kernel_size=(1, 1), activation=\"relu\")(\n",
        "      input_tensor\n",
        "  )\n",
        "  main_branch = layers.Conv2D(\n",
        "      channels, kernel_size=(3, 3), padding=\"same\", activation=\"relu\"\n",
        "  )(main_branch)\n",
        "  main_branch = layers.MaxPooling2D()(main_branch)\n",
        "  main_branch = layers.Conv2D(channels*2, kernel_size=(1, 1))(main_branch)\n",
        "  skip_branch = layers.MaxPooling2D()(input_tensor)\n",
        "  skip_branch = layers.Conv2D(channels * 2, kernel_size=(1, 1))(skip_branch)\n",
        "  return layers.Add()([skip_branch, main_branch])"
      ],
      "metadata": {
        "id": "CqiBJ5bcXFIH"
      },
      "execution_count": null,
      "outputs": []
    },
    {
      "cell_type": "code",
      "source": [
        "def up_sampling_module(input_tensor):\n",
        "  channels = list(input_tensor.shape)[-1]\n",
        "  main_branch = layers.Conv2D(channels, kernel_size=(1, 1), activation=\"relu\")(\n",
        "      input_tensor\n",
        "  )\n",
        "  main_branch = layers.Conv2D(\n",
        "      channels, kernel_size=(3, 3), padding=\"same\", activation=\"relu\"\n",
        "  )(main_branch)\n",
        "  main_branch = layers.UpSampling2D()(main_branch)\n",
        "  main_branch = layers.Conv2D(channels // 2, kernel_size=(1, 1))(main_branch)\n",
        "  skip_branch = layers.UpSampling2D()(input_tensor)\n",
        "  skip_branch = layers.Conv2D(channels // 2, kernel_size=(1, 1))(skip_branch)\n",
        "  return layers.Add()([skip_branch, main_branch])\n"
      ],
      "metadata": {
        "id": "_NDRR0WXZfdN"
      },
      "execution_count": null,
      "outputs": []
    },
    {
      "cell_type": "code",
      "source": [
        "# MRB block\n",
        "def multi_scale_residual_block(input_tensor, channels):\n",
        "  # features\n",
        "  level1 = input_tensor\n",
        "  level2 = down_sampling_module(input_tensor)\n",
        "  level3 = down_sampling_module(level2)\n",
        "\n",
        "  # DAU\n",
        "  level1_dau = dual_attention_unit_block(level1)\n",
        "  level2_dau = dual_attention_unit_block(level2)\n",
        "  level3_dau = dual_attention_unit_block(level3)\n",
        "\n",
        "  #SKFF\n",
        "  level1_skff = selective_kernel_feature_fusion(\n",
        "      level1_dau,\n",
        "      up_sampling_module(level2_dau),\n",
        "      up_sampling_module(up_sampling_module(level3_dau)),\n",
        "  )\n",
        "  level2_skff = selective_kernel_feature_fusion(\n",
        "      down_sampling_module(level1_dau), level2_dau, up_sampling_module(level3_dau)\n",
        "  )\n",
        "  level3_skff = selective_kernel_feature_fusion(\n",
        "      down_sampling_module(down_sampling_module(level1_dau)),\n",
        "      down_sampling_module(level2_dau),\n",
        "      level3_dau,\n",
        "  )\n",
        "\n",
        "  # DAU 2\n",
        "  level1_dau_2 = dual_attention_unit_block(level1_skff)\n",
        "  level2_dau_2 = up_sampling_module((dual_attention_unit_block(level2_skff)))\n",
        "  level3_dau_2 = up_sampling_module(\n",
        "      up_sampling_module(dual_attention_unit_block(level3_skff))\n",
        "  )\n",
        "\n",
        "  # SKFF 2\n",
        "  skff_ = selective_kernel_feature_fusion(level1_dau_2, level2_dau_2, level3_dau_2)\n",
        "  conv = layers.Conv2D(channels, kernel_size=(3, 3), padding=\"same\")(skff_)\n",
        "  return layers.Add()([input_tensor, conv])"
      ],
      "metadata": {
        "id": "idDp8eb0ae4W"
      },
      "execution_count": null,
      "outputs": []
    },
    {
      "cell_type": "code",
      "source": [
        "# MIRNet Model\n",
        "def recursive_residual_group(input_tensor, num_mrb, channels):\n",
        "  conv1 = layers.Conv2D(channels, kernel_size=(3, 3), padding=\"same\")(\n",
        "      input_tensor\n",
        "  )\n",
        "  for _ in range(num_mrb):\n",
        "    conv1 = multi_scale_residual_block(conv1, channels)\n",
        "  conv2 = layers.Conv2D(channels, kernel_size=(3, 3), padding=\"same\")(conv1)\n",
        "  return layers.Add()([conv2, input_tensor])\n",
        "\n",
        "def mirnet_model(num_rrg, num_mrb, channels):\n",
        "  input_tensor = keras.Input(shape=[None, None, 3])\n",
        "  x1 = layers.Conv2D(channels, kernel_size=(3, 3), padding=\"same\")(input_tensor)\n",
        "  for _ in range(num_rrg):\n",
        "    x1 = recursive_residual_group(x1, num_mrb, channels)\n",
        "    conv = layers.Conv2D(3, kernel_size=(3, 3), padding=\"same\")(x1)\n",
        "    output_tensor = layers.Add()([input_tensor, conv])\n",
        "    return keras.Model(input_tensor, output_tensor)"
      ],
      "metadata": {
        "id": "a8ti93YzctYe"
      },
      "execution_count": null,
      "outputs": []
    },
    {
      "cell_type": "code",
      "source": [
        "model = mirnet_model(num_rrg=3, num_mrb=2, channels=64)"
      ],
      "metadata": {
        "id": "wE_A9GpteAQg"
      },
      "execution_count": null,
      "outputs": []
    },
    {
      "cell_type": "code",
      "source": [
        "# Training\n",
        "def charbonnier_loss(y_true, y_pred):\n",
        "  return tf.reduce_mean(tf.sqrt(tf.square(y_true - y_pred) + tf.square(1e-3)))\n",
        "\n",
        "def peak_signal_noise_ratio(y_true, y_pred):\n",
        "  return tf.image.psnr(y_pred, y_true, max_val=255.0)"
      ],
      "metadata": {
        "id": "-gBjUOE3eF8H"
      },
      "execution_count": null,
      "outputs": []
    },
    {
      "cell_type": "code",
      "source": [
        "optimizer = keras.optimizers.Adam(learning_rate=1e-4)\n",
        "model.compile(\n",
        "    optimizer=optimizer, loss=charbonnier_loss, metrics=[peak_signal_noise_ratio]\n",
        ")\n"
      ],
      "metadata": {
        "id": "JdFkrbDKxmcX"
      },
      "execution_count": null,
      "outputs": []
    },
    {
      "cell_type": "code",
      "source": [
        "history = model.fit(\n",
        "    train_dataset,\n",
        "    validation_data=val_dataset,\n",
        "    epochs=20,\n",
        "    callbacks=[\n",
        "        keras.callbacks.ReduceLROnPlateau(\n",
        "            monitor=\"val_peak_signal_noise_ratio\",\n",
        "            factor=0.5,\n",
        "            patience=5,\n",
        "            verbose=1,\n",
        "            min_delta=1e-7,\n",
        "            mode=\"max\",\n",
        "        )\n",
        "    ],\n",
        ")"
      ],
      "metadata": {
        "colab": {
          "base_uri": "https://localhost:8080/"
        },
        "id": "QqD6fgCcyQNN",
        "outputId": "1180a2ab-5c74-430c-c831-5a0188ef0f74"
      },
      "execution_count": null,
      "outputs": [
        {
          "output_type": "stream",
          "name": "stdout",
          "text": [
            "Epoch 1/20\n",
            "75/75 [==============================] - 115s 493ms/step - loss: 0.2375 - peak_signal_noise_ratio: 61.2238 - val_loss: 0.1298 - val_peak_signal_noise_ratio: 65.6239 - lr: 1.0000e-04\n",
            "Epoch 2/20\n",
            "75/75 [==============================] - 40s 533ms/step - loss: 0.1737 - peak_signal_noise_ratio: 63.5854 - val_loss: 0.1262 - val_peak_signal_noise_ratio: 65.6133 - lr: 1.0000e-04\n",
            "Epoch 3/20\n",
            "75/75 [==============================] - 39s 526ms/step - loss: 0.1668 - peak_signal_noise_ratio: 63.5635 - val_loss: 0.1227 - val_peak_signal_noise_ratio: 65.9243 - lr: 1.0000e-04\n",
            "Epoch 4/20\n",
            "75/75 [==============================] - 40s 530ms/step - loss: 0.1633 - peak_signal_noise_ratio: 63.8208 - val_loss: 0.1205 - val_peak_signal_noise_ratio: 65.9872 - lr: 1.0000e-04\n",
            "Epoch 5/20\n",
            "75/75 [==============================] - 35s 462ms/step - loss: 0.1661 - peak_signal_noise_ratio: 63.6769 - val_loss: 0.1272 - val_peak_signal_noise_ratio: 65.6649 - lr: 1.0000e-04\n",
            "Epoch 6/20\n",
            "75/75 [==============================] - 40s 529ms/step - loss: 0.1588 - peak_signal_noise_ratio: 64.1633 - val_loss: 0.1181 - val_peak_signal_noise_ratio: 66.4321 - lr: 1.0000e-04\n",
            "Epoch 7/20\n",
            "75/75 [==============================] - 35s 469ms/step - loss: 0.1610 - peak_signal_noise_ratio: 63.9594 - val_loss: 0.1155 - val_peak_signal_noise_ratio: 66.5528 - lr: 1.0000e-04\n",
            "Epoch 8/20\n",
            "75/75 [==============================] - 40s 529ms/step - loss: 0.1634 - peak_signal_noise_ratio: 63.8364 - val_loss: 0.1138 - val_peak_signal_noise_ratio: 66.6217 - lr: 1.0000e-04\n",
            "Epoch 9/20\n",
            "75/75 [==============================] - 40s 530ms/step - loss: 0.1481 - peak_signal_noise_ratio: 64.5699 - val_loss: 0.1113 - val_peak_signal_noise_ratio: 67.0521 - lr: 1.0000e-04\n",
            "Epoch 10/20\n",
            "75/75 [==============================] - 40s 529ms/step - loss: 0.1516 - peak_signal_noise_ratio: 64.4891 - val_loss: 0.1113 - val_peak_signal_noise_ratio: 66.9036 - lr: 1.0000e-04\n",
            "Epoch 11/20\n",
            "75/75 [==============================] - 40s 528ms/step - loss: 0.1478 - peak_signal_noise_ratio: 64.6512 - val_loss: 0.1141 - val_peak_signal_noise_ratio: 66.7727 - lr: 1.0000e-04\n",
            "Epoch 12/20\n",
            "75/75 [==============================] - 40s 528ms/step - loss: 0.1447 - peak_signal_noise_ratio: 64.7869 - val_loss: 0.1177 - val_peak_signal_noise_ratio: 66.7184 - lr: 1.0000e-04\n",
            "Epoch 13/20\n",
            "75/75 [==============================] - 40s 528ms/step - loss: 0.1443 - peak_signal_noise_ratio: 64.7850 - val_loss: 0.1156 - val_peak_signal_noise_ratio: 66.7382 - lr: 1.0000e-04\n",
            "Epoch 14/20\n",
            "75/75 [==============================] - ETA: 0s - loss: 0.1540 - peak_signal_noise_ratio: 64.5319\n",
            "Epoch 14: ReduceLROnPlateau reducing learning rate to 4.999999873689376e-05.\n",
            "75/75 [==============================] - 39s 527ms/step - loss: 0.1540 - peak_signal_noise_ratio: 64.5319 - val_loss: 0.1122 - val_peak_signal_noise_ratio: 66.9247 - lr: 1.0000e-04\n",
            "Epoch 15/20\n",
            "75/75 [==============================] - 40s 528ms/step - loss: 0.1428 - peak_signal_noise_ratio: 64.8862 - val_loss: 0.1111 - val_peak_signal_noise_ratio: 67.0099 - lr: 5.0000e-05\n",
            "Epoch 16/20\n",
            "75/75 [==============================] - 35s 463ms/step - loss: 0.1420 - peak_signal_noise_ratio: 65.0995 - val_loss: 0.1098 - val_peak_signal_noise_ratio: 67.0947 - lr: 5.0000e-05\n",
            "Epoch 17/20\n",
            "75/75 [==============================] - 35s 468ms/step - loss: 0.1382 - peak_signal_noise_ratio: 65.1886 - val_loss: 0.1103 - val_peak_signal_noise_ratio: 67.1153 - lr: 5.0000e-05\n",
            "Epoch 18/20\n",
            "75/75 [==============================] - 35s 462ms/step - loss: 0.1388 - peak_signal_noise_ratio: 65.1687 - val_loss: 0.1081 - val_peak_signal_noise_ratio: 67.3204 - lr: 5.0000e-05\n",
            "Epoch 19/20\n",
            "75/75 [==============================] - 35s 463ms/step - loss: 0.1354 - peak_signal_noise_ratio: 65.4201 - val_loss: 0.1103 - val_peak_signal_noise_ratio: 66.9687 - lr: 5.0000e-05\n",
            "Epoch 20/20\n",
            "75/75 [==============================] - 35s 461ms/step - loss: 0.1388 - peak_signal_noise_ratio: 65.1817 - val_loss: 0.1096 - val_peak_signal_noise_ratio: 67.0378 - lr: 5.0000e-05\n"
          ]
        }
      ]
    },
    {
      "cell_type": "code",
      "source": [
        "plt.plot(history.history[\"loss\"], label=\"train_loss\")\n",
        "plt.plot(history.history[\"val_loss\"], label=\"val_loss\")\n",
        "plt.xlabel(\"Epochs\")\n",
        "plt.ylabel(\"Loss\")\n",
        "plt.title(\"Train and Validation Losses Over Epochs\", fontsize=14)\n",
        "plt.legend()\n",
        "plt.grid()\n",
        "plt.show()"
      ],
      "metadata": {
        "colab": {
          "base_uri": "https://localhost:8080/",
          "height": 473
        },
        "id": "T71-BkhWyzo_",
        "outputId": "0d6c04f4-5491-48a4-c817-f6400b886359"
      },
      "execution_count": null,
      "outputs": [
        {
          "output_type": "display_data",
          "data": {
            "text/plain": [
              "<Figure size 640x480 with 1 Axes>"
            ],
            "image/png": "[encoded data removed]"
          },
          "metadata": {}
        }
      ]
    },
    {
      "cell_type": "code",
      "source": [
        "plt.plot(history.history[\"peak_signal_noise_ratio\"], label=\"train_psnr\")\n",
        "plt.plot(history.history[\"val_peak_signal_noise_ratio\"], label=\"val_psnr\")\n",
        "plt.xlabel(\"Epochs\")\n",
        "plt.ylabel(\"PSNR\")\n",
        "plt.title(\"Train and Validation PSNR Over Epochs\", fontsize=14)\n",
        "plt.legend()\n",
        "plt.grid()\n",
        "plt.show()"
      ],
      "metadata": {
        "colab": {
          "base_uri": "https://localhost:8080/",
          "height": 473
        },
        "id": "75DEnHf4z1LQ",
        "outputId": "ccb6946f-78e9-4ede-84ba-848e52b94f64"
      },
      "execution_count": null,
      "outputs": [
        {
          "output_type": "display_data",
          "data": {
            "text/plain": [
              "<Figure size 640x480 with 1 Axes>"
            ],
            "image/png": "[encoded data removed]"
          },
          "metadata": {}
        }
      ]
    },
    {
      "cell_type": "code",
      "source": [
        "def plot_results(images, titles, figure_size=(12, 12)):\n",
        "    fig = plt.figure(figsize=figure_size)\n",
        "    for i in range(len(images)):\n",
        "        fig.add_subplot(1, len(images), i + 1).set_title(titles[i])\n",
        "        _ = plt.imshow(images[i])\n",
        "        plt.axis(\"off\")\n",
        "    plt.show()\n",
        "\n",
        "\n",
        "def infer(original_image):\n",
        "    image = keras.utils.img_to_array(original_image)\n",
        "    image = image.astype(\"float32\") / 255.0\n",
        "    image = np.expand_dims(image, axis=0)\n",
        "    output = model.predict(image)\n",
        "    output_image = output[0] * 255.0\n",
        "    output_image = output_image.clip(0, 255)\n",
        "    output_image = output_image.reshape(\n",
        "        (np.shape(output_image)[0], np.shape(output_image)[1], 3)\n",
        "    )\n",
        "    output_image = Image.fromarray(np.uint8(output_image))\n",
        "    original_image = Image.fromarray(np.uint8(original_image))\n",
        "    return output_image"
      ],
      "metadata": {
        "id": "dKg6luk3z1oO"
      },
      "execution_count": null,
      "outputs": []
    },
    {
      "cell_type": "code",
      "source": [
        "# Inference on Test Images\n",
        "for low_light_image in random.sample(test_low_light_images, 6):\n",
        "  original_image = Image.open(low_light_image)\n",
        "  enhanced_image = infer(original_image)\n",
        "  plot_results(\n",
        "      [original_image, ImageOps.autocontrast(original_image), enhanced_image],\n",
        "      [\"Original\", \"PIL Autocontrast\", \"MIRNet Enhanced\"],\n",
        "      (20, 12),\n",
        "  )"
      ],
      "metadata": {
        "colab": {
          "base_uri": "https://localhost:8080/",
          "height": 1000
        },
        "id": "DKZanQ_D1Z3z",
        "outputId": "4d6a6eb8-771e-486f-e8fe-76957c6f0a37"
      },
      "execution_count": null,
      "outputs": []
    },
    {
      "cell_type": "code",
      "source": [],
      "metadata": {
        "id": "fXTYN1Kw194T"
      },
      "execution_count": null,
      "outputs": []
    }
  ]
}